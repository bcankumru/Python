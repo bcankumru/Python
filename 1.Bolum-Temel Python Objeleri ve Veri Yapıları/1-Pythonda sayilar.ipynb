{
 "cells": [
  {
   "cell_type": "code",
   "execution_count": 1,
   "metadata": {},
   "outputs": [],
   "source": [
    "#Pythonda Sayılar:\n",
    "#Tamsayılar (Integer)¶\n",
    "#Matematikte gördüğümüz tüm sayılar (negatif,pozitif) aslında Python'da bir veri tipidir. Tamsayılar ise ingilizce olarak \n",
    "#Integer olarak geçmektedir.\n",
    "#Bu bölümde şunları öğreneceğiz.\n",
    "\n",
    "#    1. Tamsayı(Integer) ve Ondalıklı Sayı(Float ) Veri tipleri\n",
    "#    2. Basit Matematik İşlemleri \n",
    "#    3. Değişken Tanımlama\n",
    "\n",
    "\n",
    "#Örnek olarak, -1000,34,2,0 gibi sayılar Python'da birer tamsayı(integer) değerleridir.\n",
    "#Ondalıklı Sayılar (Float)\n",
    "#Tamsayılar gibi Ondalıklı sayılar da bizim matematikte gördüğümüz sayı çeşitlerinden bir tanesidir. Ondalıklı sayılar \n",
    "#matematikte olduğu gibi, Pythonda da bir veri tipidir.Ondalıklı Sayılar veya diğer adıyla Kayan Sayılar İngilizce olarak \n",
    "#Float olarak geçmektedir.\n",
    "\n",
    "#Örnek olarak, 3.14, 3.554546, -13.54 gibi sayılar Python'da birer ondalıklı sayı(float) değerleridir.\n"
   ]
  },
  {
   "cell_type": "code",
   "execution_count": 2,
   "metadata": {},
   "outputs": [
    {
     "data": {
      "text/plain": [
       "7"
      ]
     },
     "execution_count": 2,
     "metadata": {},
     "output_type": "execute_result"
    }
   ],
   "source": [
    "# Toplama\n",
    "3 + 4"
   ]
  },
  {
   "cell_type": "code",
   "execution_count": 3,
   "metadata": {},
   "outputs": [
    {
     "data": {
      "text/plain": [
       "-12"
      ]
     },
     "execution_count": 3,
     "metadata": {},
     "output_type": "execute_result"
    }
   ],
   "source": [
    "#Çıkarma\n",
    "5-17"
   ]
  },
  {
   "cell_type": "code",
   "execution_count": 4,
   "metadata": {},
   "outputs": [
    {
     "data": {
      "text/plain": [
       "52"
      ]
     },
     "execution_count": 4,
     "metadata": {},
     "output_type": "execute_result"
    }
   ],
   "source": [
    "#Çarpma\n",
    "13 * 4"
   ]
  },
  {
   "cell_type": "code",
   "execution_count": 5,
   "metadata": {},
   "outputs": [
    {
     "data": {
      "text/plain": [
       "2.0"
      ]
     },
     "execution_count": 5,
     "metadata": {},
     "output_type": "execute_result"
    }
   ],
   "source": [
    "#Bölme\n",
    "4/2"
   ]
  },
  {
   "cell_type": "code",
   "execution_count": 6,
   "metadata": {},
   "outputs": [],
   "source": [
    "#Değişkenler ve Değişken Tanımlama\n",
    "#Değişkenler bir programlama dilinde olmazsa olmaz bir kavramdır. Değişkenler aslında bir veri tipinden değer tutan birimlerdir."
   ]
  },
  {
   "cell_type": "code",
   "execution_count": 7,
   "metadata": {},
   "outputs": [
    {
     "data": {
      "text/plain": [
       "10"
      ]
     },
     "execution_count": 7,
     "metadata": {},
     "output_type": "execute_result"
    }
   ],
   "source": [
    "# Değişken ismi ve Değişkenin değeri \n",
    "i =  10\n",
    "i"
   ]
  },
  {
   "cell_type": "code",
   "execution_count": 8,
   "metadata": {},
   "outputs": [
    {
     "data": {
      "text/plain": [
       "1000"
      ]
     },
     "execution_count": 8,
     "metadata": {},
     "output_type": "execute_result"
    }
   ],
   "source": [
    "i * i *i\n",
    "#Sonuç, değişkenimizin değerinin 3.kuvveti şeklinde karşımıza çıkmış oldu. Şimdi de değişkenimizin değerini değiştirelim. \n",
    "#Bunun için , yeni değerimizi \"=\" operatörüyle değişkenimize atamamız gerekiyor."
   ]
  },
  {
   "cell_type": "code",
   "execution_count": 9,
   "metadata": {},
   "outputs": [
    {
     "data": {
      "text/plain": [
       "15"
      ]
     },
     "execution_count": 9,
     "metadata": {},
     "output_type": "execute_result"
    }
   ],
   "source": [
    "i = 15\n",
    "i"
   ]
  },
  {
   "cell_type": "code",
   "execution_count": 11,
   "metadata": {},
   "outputs": [
    {
     "data": {
      "text/plain": [
       "10"
      ]
     },
     "execution_count": 11,
     "metadata": {},
     "output_type": "execute_result"
    }
   ],
   "source": [
    "#Üç tane değişken oluşturup işlem yapma\n",
    "a = 4\n",
    "b = 3\n",
    "c = a  + 2*b\n",
    "c\n",
    "#Peki burada \"c\" değişkeninin değeri ne olacak ? Bu işlemde ilk olarak = operatörünün sağ taraftaki işlemi hesaplanıyor ve \n",
    "#sonra c değişkenine hesaplanan değer atanıyor."
   ]
  },
  {
   "cell_type": "code",
   "execution_count": 12,
   "metadata": {},
   "outputs": [],
   "source": [
    "#Değişkenlere isim verirken dikkat edilmesi gereken hususlar:\n",
    "        #1. Değişken isimleri bir sayı ile başlayamaz.\n",
    "        #2. Değişken ismi kelimelerden oluşuyorsa aralarında boşluk olamaz.\n",
    "        #3. :'\",<>/?|\\()!@#$%^&*~-+ Buradaki semboller değişken ismi içinde kullanılamaz.(Sadece _ sembolü kullanılabilir)\n",
    "        #4. Pythonda tanımlı anahtar kelimeler değişken ismi olarak kullanılamaz.(while, not vs. )"
   ]
  },
  {
   "cell_type": "code",
   "execution_count": 13,
   "metadata": {},
   "outputs": [
    {
     "ename": "SyntaxError",
     "evalue": "invalid syntax (<ipython-input-13-687cb8aeaa4f>, line 2)",
     "output_type": "error",
     "traceback": [
      "\u001b[1;36m  File \u001b[1;32m\"<ipython-input-13-687cb8aeaa4f>\"\u001b[1;36m, line \u001b[1;32m2\u001b[0m\n\u001b[1;33m    i? = 5\u001b[0m\n\u001b[1;37m     ^\u001b[0m\n\u001b[1;31mSyntaxError\u001b[0m\u001b[1;31m:\u001b[0m invalid syntax\n"
     ]
    }
   ],
   "source": [
    "#Hatalı\n",
    "i? = 5"
   ]
  },
  {
   "cell_type": "code",
   "execution_count": 14,
   "metadata": {},
   "outputs": [],
   "source": [
    "#Doğru\n",
    "_i = 5"
   ]
  },
  {
   "cell_type": "code",
   "execution_count": 15,
   "metadata": {},
   "outputs": [
    {
     "data": {
      "text/plain": [
       "12.56"
      ]
     },
     "execution_count": 15,
     "metadata": {},
     "output_type": "execute_result"
    }
   ],
   "source": [
    "#işlemler\n",
    "pi_sayısı = 3.14\n",
    "çap = 4\n",
    "çevre = pi_sayısı * çap\n",
    "çevre"
   ]
  },
  {
   "cell_type": "code",
   "execution_count": 16,
   "metadata": {},
   "outputs": [],
   "source": [
    "#Python'da iki değişkenin değerini birbiriyle değiştirmek için pratik bir yöntem bulunmaktadır."
   ]
  },
  {
   "cell_type": "code",
   "execution_count": 17,
   "metadata": {},
   "outputs": [],
   "source": [
    "a = 4\n",
    "b = 3"
   ]
  },
  {
   "cell_type": "code",
   "execution_count": 18,
   "metadata": {},
   "outputs": [],
   "source": [
    "a,b = b,a"
   ]
  },
  {
   "cell_type": "code",
   "execution_count": 19,
   "metadata": {},
   "outputs": [
    {
     "data": {
      "text/plain": [
       "3"
      ]
     },
     "execution_count": 19,
     "metadata": {},
     "output_type": "execute_result"
    }
   ],
   "source": [
    "a"
   ]
  },
  {
   "cell_type": "code",
   "execution_count": 20,
   "metadata": {},
   "outputs": [
    {
     "data": {
      "text/plain": [
       "4"
      ]
     },
     "execution_count": 20,
     "metadata": {},
     "output_type": "execute_result"
    }
   ],
   "source": [
    "b"
   ]
  },
  {
   "cell_type": "code",
   "execution_count": 21,
   "metadata": {},
   "outputs": [
    {
     "data": {
      "text/plain": [
       "6"
      ]
     },
     "execution_count": 21,
     "metadata": {},
     "output_type": "execute_result"
    }
   ],
   "source": [
    "#Son olarak bir değişkenin değerini artırma işlemlerinde Pythonda pratik bir yöntem bulunmaktadır.\n",
    "\n",
    "a = 5\n",
    "a = a + 1\n",
    "a\n",
    "\n",
    "#Buradaki \"a = a + 1\" işlemini Pythonda \"a += 1\" şeklinde yazabiliriz."
   ]
  },
  {
   "cell_type": "code",
   "execution_count": 22,
   "metadata": {},
   "outputs": [
    {
     "data": {
      "text/plain": [
       "11"
      ]
     },
     "execution_count": 22,
     "metadata": {},
     "output_type": "execute_result"
    }
   ],
   "source": [
    "a = 10\n",
    "a += 1 # a = a + 1 ile aynı şey.\n",
    "a"
   ]
  },
  {
   "cell_type": "code",
   "execution_count": 23,
   "metadata": {},
   "outputs": [
    {
     "data": {
      "text/plain": [
       "3"
      ]
     },
     "execution_count": 23,
     "metadata": {},
     "output_type": "execute_result"
    }
   ],
   "source": [
    "b = 4\n",
    "\n",
    "b -= 1 # b =  b -1\n",
    "b"
   ]
  },
  {
   "cell_type": "code",
   "execution_count": 24,
   "metadata": {},
   "outputs": [
    {
     "data": {
      "text/plain": [
       "30"
      ]
     },
     "execution_count": 24,
     "metadata": {},
     "output_type": "execute_result"
    }
   ],
   "source": [
    "b = 10\n",
    "b *= 3\n",
    "b"
   ]
  },
  {
   "cell_type": "code",
   "execution_count": 25,
   "metadata": {},
   "outputs": [
    {
     "name": "stdout",
     "output_type": "stream",
     "text": [
      "baris\n",
      "baris\n"
     ]
    }
   ],
   "source": [
    "# Tekli Yorum Satırı\n",
    "print(\"baris\")\n",
    "\n",
    "\"\"\"\n",
    "Çoklu Yorum Satırı\n",
    "\n",
    "\"\"\"\n",
    "print(\"baris\")"
   ]
  },
  {
   "cell_type": "code",
   "execution_count": null,
   "metadata": {},
   "outputs": [],
   "source": []
  }
 ],
 "metadata": {
  "kernelspec": {
   "display_name": "Python 3",
   "language": "python",
   "name": "python3"
  },
  "language_info": {
   "codemirror_mode": {
    "name": "ipython",
    "version": 3
   },
   "file_extension": ".py",
   "mimetype": "text/x-python",
   "name": "python",
   "nbconvert_exporter": "python",
   "pygments_lexer": "ipython3",
   "version": "3.8.5"
  }
 },
 "nbformat": 4,
 "nbformat_minor": 4
}
